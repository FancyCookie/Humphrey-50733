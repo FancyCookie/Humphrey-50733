{
 "cells": [
  {
   "cell_type": "markdown",
   "id": "5514a7ae-b460-4085-8508-c5db3a414156",
   "metadata": {},
   "source": [
    "# Numeric Integration 2\n",
    "\n",
    "### Uncertainty on The trapezoid rule\n",
    "\n",
    "Recall the integral we've been using for examples, $\\int_{0}^{2} ( x^4 - 2x + 1)dx$. Eq. 5.28 suggests we can estimate an uncertainty on our integral by integrating the function twice, one with $N$ steps and once with $2N$. Using $N=10$ and $N=20$ estimate the accuracy of your integral. How does it compare to the actual discrepancy with the known true value?"
   ]
  },
  {
   "cell_type": "code",
   "execution_count": 4,
   "id": "2253f858-0f20-4870-bf70-54a3ef14c914",
   "metadata": {},
   "outputs": [
    {
     "name": "stdout",
     "output_type": "stream",
     "text": [
      "1.7270400000000006\n",
      "2.8034500000000007\n",
      "4.396201306474681\n"
     ]
    }
   ],
   "source": [
    "# Code from first assignment\n",
    "import numpy as np\n",
    "\n",
    "def function(x):\n",
    "    return x**4 - 2*x + 1\n",
    "\n",
    "def trapezoid_integration(function, start, end, steps):\n",
    "    step_interval = (end - start) / steps # This is a float\n",
    "    start_end_values = step_interval/2 *(function(start) + function(start))\n",
    "    terms = []\n",
    "    for i in range(1,steps-1):\n",
    "        x_k = start + step_interval*i\n",
    "        terms.append(function(x_k))\n",
    "    term_sum = np.sum(terms) * step_interval\n",
    "    return start_end_values + term_sum\n",
    "\n",
    "\n",
    "print(trapezoid_integration(function,0,2,10))\n",
    "print(trapezoid_integration(function,0,2,20))\n",
    "print(trapezoid_integration(function,0,2,10000))\n",
    "#Discrepancy is quite bad"
   ]
  },
  {
   "cell_type": "markdown",
   "id": "58b79ab8-fd59-4f3f-b421-a382a0d6b48a",
   "metadata": {},
   "source": [
    "### Adaptive Trapezoid Rule\n",
    "\n",
    "Sec 5.3 outlines a method for iteratively doubling the number of steps in a trapezoid rule until a desired precision is achieved. Write a function to implement this method for our test integral, $\\int_{0}^{2} ( x^4 - 2x + 1)dx$, until a desired precision is reached. Choose your own goal."
   ]
  },
  {
   "cell_type": "code",
   "execution_count": 36,
   "id": "97c5b8db-41b5-415b-903c-7076121c0aef",
   "metadata": {},
   "outputs": [
    {
     "name": "stdout",
     "output_type": "stream",
     "text": [
      "4.399992752079954\n"
     ]
    }
   ],
   "source": [
    "def trapezoid_integration(function, start, end, steps):\n",
    "    step_interval = (end - start) / steps # This is a float\n",
    "    start_end_values = step_interval/2 *(function(start) + function(start))\n",
    "    terms = []\n",
    "    for i in range(1,steps-1):\n",
    "        x_k = start + step_interval*i\n",
    "        terms.append(function(x_k))\n",
    "    term_sum = np.sum(terms) * step_interval\n",
    "    return start_end_values + term_sum\n",
    "\n",
    "# Slightly better now\n",
    "def trap_to_error(function, start, end, precision,print_steps_and_error = False):\n",
    "    precise = 10**(-1*precision)\n",
    "    error = 1 # Dummy number\n",
    "    i = 0\n",
    "\n",
    "    #These are outside while to save computer some trouble.\n",
    "    step1 = 10 \n",
    "    trap1 = trapezoid_integration(function,start, end, step1)\n",
    "    while error > precise:\n",
    "        i +=1 \n",
    "        if i > 1000:\n",
    "            print(\"Too long to get to precision\")\n",
    "            break\n",
    "            \n",
    "        step2 = 2*step1\n",
    "        \n",
    "        trap2 = trapezoid_integration(function,start, end, step2)\n",
    "        error = trap2 - trap1\n",
    "        #Redefine next first as seconds at the end to make better\n",
    "        trap1 = trap2\n",
    "        step1 = step2\n",
    "        if print_steps_and_error:\n",
    "            print(step2)\n",
    "            print(error)\n",
    "        \n",
    "    print(trap2)\n",
    "\n",
    "def function(x):\n",
    "    return x**4 - 2*x + 1\n",
    "\n",
    "\n",
    "trap_to_error(function,0,2,5)"
   ]
  },
  {
   "cell_type": "markdown",
   "id": "a15b3013-99aa-46e0-969a-82873270872e",
   "metadata": {},
   "source": [
    "With your method established in principle, use the same function or write a new one to evaluate the integral $\\int_{0}^{1} \\sin^2 \\sqrt{100x} dx$ to a precision of $\\epsilon \\sim 10^{-6}$. Begin with a single slice and work your way up to two, four, eight, etc. At each step, print the number of slices and the error.\n",
    "\n",
    "The correct answer is around 0.45."
   ]
  },
  {
   "cell_type": "code",
   "execution_count": 37,
   "id": "271516c3-54d2-4078-84f2-c4370d3c5b5a",
   "metadata": {},
   "outputs": [
    {
     "name": "stdout",
     "output_type": "stream",
     "text": [
      "20\n",
      "0.03277232181237216\n",
      "40\n",
      "0.01681099883170506\n",
      "80\n",
      "0.007155974156474787\n",
      "160\n",
      "0.003180520952787924\n",
      "320\n",
      "0.0014880919414227978\n",
      "640\n",
      "0.000718685830742305\n",
      "1280\n",
      "0.000353059541458034\n",
      "2560\n",
      "0.00017496813843126402\n",
      "5120\n",
      "8.709494567987752e-05\n",
      "10240\n",
      "4.3450360845131986e-05\n",
      "20480\n",
      "2.170092405506807e-05\n",
      "40960\n",
      "1.084440067211645e-05\n",
      "81920\n",
      "5.420685341261944e-06\n",
      "163840\n",
      "2.709963965064066e-06\n",
      "327680\n",
      "1.3548873116220328e-06\n",
      "655360\n",
      "6.774199887149557e-07\n",
      "0.45583185490487427\n"
     ]
    }
   ],
   "source": [
    "import numpy as np\n",
    "\n",
    "def function2(x):\n",
    "    return np.sin(np.sqrt(100*x))**2\n",
    "\n",
    "trap_to_error(function2,0,1,6,True)"
   ]
  },
  {
   "cell_type": "markdown",
   "id": "b5df34fd-169b-469b-aa35-458da1e0499d",
   "metadata": {},
   "source": [
    "Repeat the previous exercise using the adaptive Simpson's Rule. You should find signficantly fewer steps are needed."
   ]
  },
  {
   "cell_type": "code",
   "execution_count": 58,
   "id": "349e35a7-a2c9-4364-8579-4f83b21ecc31",
   "metadata": {},
   "outputs": [
    {
     "name": "stdout",
     "output_type": "stream",
     "text": [
      "20\n",
      "0.056940365503450996\n",
      "40\n",
      "0.007097446442755895\n",
      "80\n",
      "0.0005171102360140845\n",
      "160\n",
      "3.355150206674207e-05\n",
      "320\n",
      "2.1165594105698737e-06\n",
      "640\n",
      "1.3259240178031817e-07\n"
     ]
    },
    {
     "data": {
      "text/plain": [
       "0.45583252346438075"
      ]
     },
     "execution_count": 58,
     "metadata": {},
     "output_type": "execute_result"
    }
   ],
   "source": [
    "def simps_int(function,start,end,steps):\n",
    "    h = (end-start)/steps\n",
    "    terms = []\n",
    "    start_end_values = (h/3) *function(start) + (h/3)*function(end)\n",
    "    for i in range(1,steps,2):\n",
    "        x_k = start + h*i\n",
    "        terms.append((4*h/3)*function(x_k))\n",
    "    for i in range(2,steps-1,2):\n",
    "        x_k = start + h*i\n",
    "        terms.append((2*h/3)*function(x_k))\n",
    "    return start_end_values + np.sum(terms)\n",
    "\n",
    "def simps_error(function,start,end,precision, print_steps_and_error = False):\n",
    "    precise = 10**(-1*precision)\n",
    "    error = 1 # Dummy number\n",
    "    i = 0\n",
    "\n",
    "    #These are outside while to save computer some trouble.\n",
    "    step1 = 10 \n",
    "    simp1 = simps_int(function,start, end, step1)\n",
    "    while error > precise:\n",
    "        i +=1 \n",
    "        if i > 1000:\n",
    "            print(\"Too long to get to precision\")\n",
    "            break\n",
    "            \n",
    "        step2 = 2*step1\n",
    "        \n",
    "        simp2 = simps_int(function,start, end, step2)\n",
    "        error = simp2 - simp1\n",
    "        #Redefine next first as seconds at the end to make better\n",
    "        step1 = step2\n",
    "        simp1 = simp2\n",
    "        if print_steps_and_error:\n",
    "            print(step2)\n",
    "            print(error)\n",
    "    \n",
    "    return(simp2)\n",
    "\n",
    "            \n",
    "simps_error(function2,0,1,6,True)"
   ]
  }
 ],
 "metadata": {
  "kernelspec": {
   "display_name": "Python 3 (ipykernel)",
   "language": "python",
   "name": "python3"
  },
  "language_info": {
   "codemirror_mode": {
    "name": "ipython",
    "version": 3
   },
   "file_extension": ".py",
   "mimetype": "text/x-python",
   "name": "python",
   "nbconvert_exporter": "python",
   "pygments_lexer": "ipython3",
   "version": "3.11.5"
  }
 },
 "nbformat": 4,
 "nbformat_minor": 5
}

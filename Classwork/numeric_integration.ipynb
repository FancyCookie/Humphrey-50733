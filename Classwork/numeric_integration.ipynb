{
 "cells": [
  {
   "cell_type": "markdown",
   "id": "2f629dbc-8bbd-48ab-a3fc-1718730ee5e1",
   "metadata": {},
   "source": [
    "# Numerical Integration\n",
    "\n",
    "We'll work through a few examples with numerical integration, then feel free to start Homework 2.\n",
    "\n",
    "### Example 5.1\n",
    "\n",
    "Consider the integral $\\int_{0}^{2} ( x^4 - 2x + 1)dx$ from $x=0$ to $x=2$. We can easily solve this analytically (you should do so), so it is a good candidate to test the trapezoid rule.\n",
    "\n",
    "- Define a function for the expression to be integrated\n",
    "- Define a function to do the integrating; plan ahead and pass N_steps as an argument\n",
    "- Integrate the function with 10, 100, and 1000 steps. How does it compare to the analytic answer of 4.4?"
   ]
  },
  {
   "cell_type": "code",
   "execution_count": 1,
   "id": "03d69d34-9d52-4b3e-b02d-bc9e614de70d",
   "metadata": {},
   "outputs": [
    {
     "data": {
      "text/plain": [
       "4.3999620001306665"
      ]
     },
     "execution_count": 1,
     "metadata": {},
     "output_type": "execute_result"
    }
   ],
   "source": [
    "import numpy as np\n",
    "# We will want answer to be around 4.4\n",
    "\n",
    "def function(x):\n",
    "    return x**4 - 2*x + 1\n",
    "\n",
    "def trapezoid_integration(function, start, end, steps):\n",
    "    step_interval = (end - start) / steps # This is a float\n",
    "    start_end_values = step_interval/2 *(function(start) + function(start))\n",
    "    terms = []\n",
    "    for i in range(1,steps-1):\n",
    "        x_k = start + step_interval*i\n",
    "        terms.append(function(x_k))\n",
    "    term_sum = np.sum(terms) * step_interval\n",
    "    return start_end_values + term_sum\n",
    "\n",
    "\n",
    "trapezoid_integration(function,0,2,1000000)"
   ]
  },
  {
   "cell_type": "markdown",
   "id": "21c670cd-7443-4406-b57c-a2656d7a56f7",
   "metadata": {},
   "source": [
    "### Exercise 5.1\n",
    "\n",
    "Read in the file `velocities.txt`, which describes the velocity of a particle over time.\n",
    "\n",
    "Use trapezoids to determine the position of the particle at each time step.\n",
    "\n",
    "Graph both velocity and position as a function of time.\n",
    "\n",
    "There are multiple ways to think about this problem, but naturally they will all get you to a mathematically identical answer. A pleasantly simple solution can be found by considering the basic definition of the aread of a trapezoid. Or you may consider Eq. 5.3 in the text and see how it simplifies for this data set. Or you may wish to program the full trapezoid rule for this descrete data set (note your previous code probably won't work exactly since your \"function\" is now a descrete set of points). "
   ]
  },
  {
   "cell_type": "code",
   "execution_count": 5,
   "id": "08f0ed62-c4c0-430e-ab0d-6de1c96eed9c",
   "metadata": {},
   "outputs": [
    {
     "name": "stdout",
     "output_type": "stream",
     "text": [
      "[  0.   1.   2.   3.   4.   5.   6.   7.   8.   9.  10.  11.  12.  13.\n",
      "  14.  15.  16.  17.  18.  19.  20.  21.  22.  23.  24.  25.  26.  27.\n",
      "  28.  29.  30.  31.  32.  33.  34.  35.  36.  37.  38.  39.  40.  41.\n",
      "  42.  43.  44.  45.  46.  47.  48.  49.  50.  51.  52.  53.  54.  55.\n",
      "  56.  57.  58.  59.  60.  61.  62.  63.  64.  65.  66.  67.  68.  69.\n",
      "  70.  71.  72.  73.  74.  75.  76.  77.  78.  79.  80.  81.  82.  83.\n",
      "  84.  85.  86.  87.  88.  89.  90.  91.  92.  93.  94.  95.  96.  97.\n",
      "  98.  99. 100.]\n",
      "[ 0.        0.069478  0.137694  0.204332  0.269083  0.331656  0.391771\n",
      "  0.449167  0.503598  0.554835  0.60267   0.646912  0.687392  0.723961\n",
      "  0.756491  0.784876  0.809032  0.828897  0.844428  0.855608  0.862439\n",
      "  0.864945  0.863172  0.857184  0.847067  0.832926  0.814882  0.793077\n",
      "  0.767666  0.738824  0.706736  0.671603  0.633638  0.593065  0.550118\n",
      "  0.505039  0.458077  0.409488  0.359533  0.308474  0.256576  0.204107\n",
      "  0.15133   0.098509  0.045905 -0.006228 -0.05764  -0.108088 -0.157338\n",
      " -0.205163 -0.251347 -0.295685 -0.337984 -0.378064 -0.415757 -0.450909\n",
      " -0.483382 -0.513052 -0.539809 -0.563563 -0.584234 -0.601764 -0.616107\n",
      " -0.627235 -0.635136 -0.639814 -0.641289 -0.639596 -0.634786 -0.626922\n",
      " -0.616085 -0.602366 -0.585872 -0.56672  -0.545039 -0.52097  -0.494661\n",
      " -0.466272 -0.43597  -0.403929 -0.37033  -0.335357 -0.299201 -0.262054\n",
      " -0.224114 -0.185575 -0.146636 -0.107492 -0.068339 -0.02937   0.009227\n",
      "  0.047268  0.084574  0.12097   0.15629   0.190375  0.223073  0.254244\n",
      "  0.283753  0.311479  0.337308]\n"
     ]
    },
    {
     "data": {
      "text/plain": [
       "<matplotlib.collections.PathCollection at 0x1aacf034ad0>"
      ]
     },
     "execution_count": 5,
     "metadata": {},
     "output_type": "execute_result"
    },
    {
     "data": {
      "image/png": "[encoded data removed]",
      "text/plain": [
       "<Figure size 1000x700 with 1 Axes>"
      ]
     },
     "metadata": {},
     "output_type": "display_data"
    }
   ],
   "source": [
    "import numpy as np\n",
    "from matplotlib import pyplot as plt\n",
    "\n",
    "# First off, loading in the data\n",
    "time, velocity = np.genfromtxt(\"velocities.txt\",skip_header = 1,unpack=True)\n",
    "print(time)\n",
    "print(velocity)\n",
    "# Now for the meat of the assignment: finding the position as a function of time, with this discrete set.\n",
    "\n",
    "# 1/2 * 1 (h1 + h2)\n",
    "positions = []\n",
    "place = 0 # Inital position\n",
    "#positions.append(position)\n",
    "for i in range(0,len(time)-1):\n",
    "    place += velocity[i]\n",
    "    positions.append(place)\n",
    "    \n",
    "\n",
    "\n",
    "\n",
    "times = time[1:len(time)]\n",
    "\n",
    "# Velocity graph\n",
    "fig1 = plt.figure(figsize = (10,7))\n",
    "graph = fig1.add_subplot(111)\n",
    "graph.scatter(time,velocity)\n",
    "graph.scatter(times,positions)"
   ]
  }
 ],
 "metadata": {
  "kernelspec": {
   "display_name": "Python 3 (ipykernel)",
   "language": "python",
   "name": "python3"
  },
  "language_info": {
   "codemirror_mode": {
    "name": "ipython",
    "version": 3
   },
   "file_extension": ".py",
   "mimetype": "text/x-python",
   "name": "python",
   "nbconvert_exporter": "python",
   "pygments_lexer": "ipython3",
   "version": "3.11.5"
  }
 },
 "nbformat": 4,
 "nbformat_minor": 5
}

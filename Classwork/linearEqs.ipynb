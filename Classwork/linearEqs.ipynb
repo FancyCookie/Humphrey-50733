{
 "cells": [
  {
   "cell_type": "markdown",
   "id": "3152985b-aada-4a50-b547-24d8e64c1415",
   "metadata": {},
   "source": [
    "# Gaussian Elimination\n",
    "\n",
    "Gaussian elimination is detailed in Sec. 6.1.1. The process is iterative to the point of being tedious and lends itself nicely to a nested for loop. \n",
    "\n",
    "There is some example code given, but as usual it is instructive to attempt the exercise for yourself first. Write some code to perform Gaussian Elimination for the example Eq. 6.2.\n",
    "\n",
    "Once you have the resulting upper triangular, write another loop to do the back substitution and solve the system of equations. The correct answer is given in the text."
   ]
  },
  {
   "cell_type": "code",
   "execution_count": 2,
   "id": "272b0901-d7f5-4668-b6e3-b883f6d25008",
   "metadata": {},
   "outputs": [
    {
     "name": "stdout",
     "output_type": "stream",
     "text": [
      "[[ 1.   0.5  2.   0.5]\n",
      " [ 0.   2.5 -7.  -2.5]\n",
      " [ 0.  -4.5 -1.   4.5]\n",
      " [ 0.  -3.  -3.   2. ]]\n",
      "[[  1.    0.5   2.    0.5]\n",
      " [  0.    1.   -2.8  -1. ]\n",
      " [  0.    0.  -13.6   0. ]\n",
      " [  0.    0.  -11.4  -1. ]]\n",
      "[[ 1.   0.5  2.   0.5]\n",
      " [ 0.   1.  -2.8 -1. ]\n",
      " [-0.  -0.   1.  -0. ]\n",
      " [ 0.   0.   0.  -1. ]]\n",
      "[[ 1.   0.5  2.   0.5]\n",
      " [ 0.   1.  -2.8 -1. ]\n",
      " [-0.  -0.   1.  -0. ]\n",
      " [-0.  -0.  -0.   1. ]]\n",
      "[2.0000000000000036, -1.000000000000003, -2.0, 0.9999999999999964]\n"
     ]
    }
   ],
   "source": [
    "# First we need to actually get that array in our code so:\n",
    "import numpy as np\n",
    "\n",
    "A = np.array([[2,1,4,1],\n",
    "            [3,4,-1,-1],\n",
    "            [1,-4,1,5],\n",
    "            [2,-2,1,3]],float)\n",
    "\n",
    "x = np.array([-4,3,9,7],float)\n",
    "\n",
    "\n",
    "# Process: Take A11 and divide the first row by it. Then subtract the 3 following rows by this new first row times the first value in the rows\n",
    "# Hey so first question was how do I find a specific value? Do this notation [i,j] where i,j is the indexes for the specific value.\n",
    "#print(A[0,1])\n",
    "#print(A[0])\n",
    "#print(A[0,1])\n",
    "\n",
    "for i in range(0,len(A)):\n",
    "    x[i] = x[i] / A[i,i]\n",
    "    A[i,:] = A[i,:] / A[i,i] # This makes Diagonal entries one\n",
    "    for j in range(i+1,len(A)): # i+1 makes it so no dividing by zero, always appreciated\n",
    "        x[j] = x[j] - (x[i] * A[j,i])\n",
    "        A[j,:] = A[j,:] - (A[i,:] * A[j,i]) # Subtraction for upper triangular\n",
    "    print(A)\n",
    "\n",
    "\n",
    "answer = np.empty(len(x),float)\n",
    "\n",
    "\n",
    "#Generalize this later:\n",
    "x4 = x[3]\n",
    "x3 = x[2] - A[2,3]*x4\n",
    "x2 = x[1] - A[1,2]*x3 - A[1,3]*x4\n",
    "x1 = x[0] - A[0,1]*x2 - A[0,2]*x3 - A[0,3]*x4\n",
    "\n",
    "answer = [x1,x2,x3,x4]\n",
    "print(answer)"
   ]
  },
  {
   "cell_type": "markdown",
   "id": "6ab18220-d69e-48a2-b9e3-bf8bc3e811be",
   "metadata": {},
   "source": [
    "# LU Decomposition\n",
    "\n",
    "LU Decomposition is similar to Gaussian elimination, but is more flexible. The result is a set of matrices LU that are equivalent to A, but can be used to immediately solve any problem of the form $ \\mathbf{A} \\vec{v} = \\vec{x_{n}}$ where we might have many different $\\vec{x_{n}}$ for which we need $\\vec{v}$.\n",
    "\n",
    "The suggestion in the text is to use an iterative process to build up the matrices L and U.\n",
    "\n",
    "Begin by setting up the problem"
   ]
  },
  {
   "cell_type": "code",
   "execution_count": 2,
   "id": "49641ffd-7107-4b47-9b44-a14125bd23bf",
   "metadata": {},
   "outputs": [],
   "source": [
    "import numpy as np\n",
    "\n",
    "A = np.array([[2, 1, 4, 1],\n",
    "             [3, 4, -1, -1],\n",
    "             [1, -4, 1, 5],\n",
    "             [2, -2, 1, 3]], float)\n",
    "v =  [-4, 3, 9, 7]\n",
    "N = A.shape[0]\n",
    "\n",
    "L = np.zeros([N,N], float)\n",
    "U = np.copy(A)"
   ]
  },
  {
   "cell_type": "markdown",
   "id": "affb7867-30c4-4e06-bcaa-4382c316c205",
   "metadata": {},
   "source": [
    "Now we'll iterate through the rows and columns. Notice I've created U to initially be a copy of **A** while **L** is zeros. \n",
    "\n",
    "In the text, we write a series of matrices whose product is the upper triangular Gaussian elimination product. In practice, we can build this product iteratively.\n",
    "\n",
    "The first column of the matrix **L** is the first row of **A**, $a_{00}$ to $a_{n0}$. The first row in **U** is the Gaussian elimination row, $a_{00}/a_{00}$ through $a_{n0}/a_{00}$.\n",
    "\n",
    "Then we're done editing that row in **U**, but we need to subract it multiplied by the first element of the remaining rows from the remaining rows. Now we have second matrix with elements $b_{nm}$.\n",
    "\n",
    "The process is iterative from here. We select the next column of **L** from b, then normalize b and use the result to calculate c.\n",
    "\n",
    "This process is of course a nested for loop. Try to code it. It may be helpful to print L and U at each step.\n",
    "\n",
    "Verify your result by subtracting the product **LU** from **A** e.g., `print(np.matmul(L,U) - A)`"
   ]
  },
  {
   "cell_type": "code",
   "execution_count": 3,
   "id": "11ac107e-e783-4b04-acd7-f6e88354c44c",
   "metadata": {},
   "outputs": [
    {
     "name": "stdout",
     "output_type": "stream",
     "text": [
      "[[2. 0. 0. 0.]\n",
      " [3. 0. 0. 0.]\n",
      " [1. 0. 0. 0.]\n",
      " [2. 0. 0. 0.]]\n",
      "[[ 2.   0.   0.   0. ]\n",
      " [ 3.   2.5  0.   0. ]\n",
      " [ 1.  -4.5  0.   0. ]\n",
      " [ 2.  -3.   0.   0. ]]\n",
      "[[  2.    0.    0.    0. ]\n",
      " [  3.    2.5   0.    0. ]\n",
      " [  1.   -4.5 -13.6   0. ]\n",
      " [  2.   -3.  -11.4   0. ]]\n",
      "[[  2.    0.    0.    0. ]\n",
      " [  3.    2.5   0.    0. ]\n",
      " [  1.   -4.5 -13.6   0. ]\n",
      " [  2.   -3.  -11.4  -1. ]]\n",
      "[[0. 0. 0. 0.]\n",
      " [0. 0. 0. 0.]\n",
      " [0. 0. 0. 0.]\n",
      " [0. 0. 0. 0.]]\n"
     ]
    }
   ],
   "source": [
    "A = np.array([[2, 1, 4, 1],\n",
    "             [3, 4, -1, -1],\n",
    "             [1, -4, 1, 5],\n",
    "             [2, -2, 1, 3]], float)\n",
    "v =  [-4, 3, 9, 7]\n",
    "N = A.shape[0]\n",
    "\n",
    "L = np.zeros([N,N], float)\n",
    "U = np.copy(A)\n",
    "\n",
    "# code\n",
    "for i in range(0,N):\n",
    "    L[i:N,i] = U[i:N,i]\n",
    "    print(L)\n",
    "    U[i,:] = U[i,:] / U[i,i]\n",
    "    for j in range(i+1,N):\n",
    "        mul = U[j,i]\n",
    "        U[j,:] -=  (mul * U[i,:])\n",
    "    # print(U)\n",
    "        \n",
    "print(np.matmul(L,U) - A)"
   ]
  },
  {
   "cell_type": "markdown",
   "id": "2b01396b-96ff-4967-8794-a74796170d9a",
   "metadata": {},
   "source": [
    "### Back substitution\n",
    "\n",
    "Now that you have L and U we can do some quick back substitution. The compontents of $\\vec{y}$ and $\\vec{x}$ can we written down fairly easily from Eqs. 6.35 and 6.36, and in fact $\\vec{y}$ in the 3 element case is given explicitly. The generalization for $\\vec{y}$ is straightforward; write a for loop to calculate $\\vec{y}$, then use $\\vec{y}$ and another for loop to calculate $\\vec{x}$."
   ]
  },
  {
   "cell_type": "code",
   "execution_count": null,
   "id": "93e8d2fe-5552-4484-a4cd-d49584c4b81b",
   "metadata": {},
   "outputs": [],
   "source": [
    "# code"
   ]
  },
  {
   "cell_type": "markdown",
   "id": "67daf08e-ead1-4f84-a4e5-c78b59cb1a67",
   "metadata": {},
   "source": [
    "### Verify\n",
    "\n",
    "Ensure that your solution is correct. It should satisfy all 4 simultaneous equations, and/or you could just do some matrix math. `np.matmul` broadcast matrices and vectors correctly.\n",
    "\n",
    "Now that we've done things the hard way, let's also verify that `np.linalg.solve` finds the same answer."
   ]
  },
  {
   "cell_type": "code",
   "execution_count": null,
   "id": "2ec0ae89-514f-431d-8875-1368b2b6c67c",
   "metadata": {},
   "outputs": [],
   "source": []
  }
 ],
 "metadata": {
  "kernelspec": {
   "display_name": "Python 3 (ipykernel)",
   "language": "python",
   "name": "python3"
  },
  "language_info": {
   "codemirror_mode": {
    "name": "ipython",
    "version": 3
   },
   "file_extension": ".py",
   "mimetype": "text/x-python",
   "name": "python",
   "nbconvert_exporter": "python",
   "pygments_lexer": "ipython3",
   "version": "3.11.5"
  }
 },
 "nbformat": 4,
 "nbformat_minor": 5
}

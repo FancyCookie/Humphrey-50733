{
 "cells": [
  {
   "cell_type": "markdown",
   "id": "9b2447a4-0151-4a13-b61d-fe14067f9fe9",
   "metadata": {},
   "source": [
    "Golden Ratio code but there's something wrong with it. At least we have a goden rat though, that's pretty cool though"
   ]
  },
  {
   "cell_type": "code",
   "execution_count": 1,
   "id": "32598b00-a24a-4e53-b172-8acabe176964",
   "metadata": {},
   "outputs": [
    {
     "name": "stdout",
     "output_type": "stream",
     "text": [
      " x2 < x3 \n",
      "1.8885438199983176 3.0557280900008417 4.944271909999158\n",
      " x2 < x3 \n",
      "1.167184270002524 1.8885438199983176 3.0557280900008417\n",
      " x2 < x3 \n",
      "0.7213595499957941 1.8885438199983176 2.220446049250313e-16\n"
     ]
    },
    {
     "data": {
      "text/plain": [
       "0.5835921350012621"
      ]
     },
     "execution_count": 1,
     "metadata": {},
     "output_type": "execute_result"
    }
   ],
   "source": [
    "import numpy as np\n",
    "\n",
    "def potential(r, sigma = 1, V0 = 1):\n",
    "    return V0 * ((sigma/r)**6 - np.exp(-r/sigma) )\n",
    "\n",
    "def goldRat(x1,x4, accurate_power, printing= True):\n",
    "    z = (1 + np.sqrt(5)) / 2 # The Gold Rat\n",
    "    x2 = x4 - (x4-x1)/z\n",
    "    x3 = x1 + (x4-x1)/z\n",
    "    \n",
    "    accurate = 10**(-1 *accurate_power)\n",
    "    cond1 = x4 - x1\n",
    "\n",
    "\n",
    "    while cond1 > accurate:\n",
    "\n",
    "        if potential(x2) < potential(x3):\n",
    "            x4 = x3\n",
    "            x3 = x2\n",
    "            x2 = x4 - (x4 -x1)/z\n",
    "            print( \" x2 < x3 \" )\n",
    "            print(x2, x3, x4)\n",
    "        else:\n",
    "            x1 = x2\n",
    "            x2 = x3\n",
    "            x3 = x1 - (x4-x1)/z\n",
    "        cond1 = x4 - x1\n",
    "        \n",
    "    return (x1+x4)/2\n",
    "        \n",
    "goldRat(0,8,3)"
   ]
  },
  {
   "cell_type": "markdown",
   "id": "83d856d3-bfd8-4aef-b977-480810116f6c",
   "metadata": {},
   "source": [
    "Gradient Descent"
   ]
  },
  {
   "cell_type": "code",
   "execution_count": 2,
   "id": "bbf8d6b9-23c6-4c8f-9f07-c1eea216fe31",
   "metadata": {},
   "outputs": [
    {
     "data": {
      "text/plain": [
       "1.6300201205024551"
      ]
     },
     "execution_count": 2,
     "metadata": {},
     "output_type": "execute_result"
    }
   ],
   "source": [
    "def grad_descent(function, start, step , accuracy):\n",
    "    accuracy = 10**(-1*accuracy)\n",
    "    deriv = (function(start+step) - function(start)) / step # Basic Euler's for derivative\n",
    "    newplace = start - deriv\n",
    "    \n",
    "    cond1 = np.abs(newplace - start)\n",
    "    terminator = 1\n",
    "    while cond1 > accuracy:\n",
    "        deriv = (function(start+step) - function(start)) / step # Basic Euler's for derivative\n",
    "        newplace = start - deriv\n",
    "        cond1 = np.abs(newplace - start)\n",
    "        start = newplace\n",
    "        terminator +=1\n",
    "        if terminator > 10000:\n",
    "            break\n",
    "    return newplace\n",
    "        \n",
    "\n",
    "grad_descent(potential,4, .001,5)"
   ]
  },
  {
   "cell_type": "code",
   "execution_count": 3,
   "id": "44266fb1-91dd-4cc2-a9cc-695f687be120",
   "metadata": {},
   "outputs": [],
   "source": [
    "def grad_NDescent(function, start,step,accuracy):\n",
    "    accuracy = 10**(-1*accuracy)\n",
    "    deriv = np.zeros_like(start,float)\n",
    "    for i in range(0,len(start)):\n",
    "        nderiv = (function(start[i]+step) - function(start[i])) / step\n",
    "        deriv[i] = nderiv\n",
    "\n",
    "    newplace = start - deriv\n",
    "    cond1 = np.abs(np.sum(newplace))\n",
    "    start = newplace\n",
    "    terminator = 1\n",
    "    while cond1 > accuracy:\n",
    "        for i in range(0,len(start)):\n",
    "            nderiv = (function(start[i]+step) - function(start[i])) / step\n",
    "            deriv[i] = nderiv\n",
    "        newplace = start - deriv\n",
    "        cond1 = np.abs(np.sum(newplace))\n",
    "        start = newplace\n",
    "        terminator += 1\n",
    "        \n",
    "        if terminator > 10000:\n",
    "            break\n",
    "    return newplace\n"
   ]
  },
  {
   "cell_type": "markdown",
   "id": "fe63a42e-fb70-4194-93f2-0a5544ade8a0",
   "metadata": {},
   "source": [
    "Newton's Descent Method I guess"
   ]
  },
  {
   "cell_type": "code",
   "execution_count": 4,
   "id": "1c574508-72ae-4eb5-8301-98c9ee63f533",
   "metadata": {},
   "outputs": [
    {
     "data": {
      "text/plain": [
       "1.6303667604075642"
      ]
     },
     "execution_count": 4,
     "metadata": {},
     "output_type": "execute_result"
    }
   ],
   "source": [
    "def new_descent(function,x1,x2,gamma,accuracy):\n",
    "    accuracy = 10**(-1*accuracy)\n",
    "    x3 = x2 - gamma* (function(x2) - function(x1)) / (x2-x1)\n",
    "    cond1 = np.abs(x3-x2)\n",
    "    x1 = x2\n",
    "    x2 = x3\n",
    "    terminator = 1\n",
    "    while cond1 > accuracy:\n",
    "        x3 = x2 - gamma* (function(x2) - function(x1)) / (x2-x1)\n",
    "        cond1 = np.abs(x3-x2)\n",
    "        x1 = x2\n",
    "        x2 = x3\n",
    "        terminator +=1\n",
    "        if terminator > 10000:\n",
    "            break\n",
    "    return x3\n",
    "\n",
    "new_descent(potential,1,3,1,4)"
   ]
  },
  {
   "cell_type": "markdown",
   "id": "471a0ac9-7b70-4f75-af83-46036c30b86b",
   "metadata": {},
   "source": [
    "Just messing around with np.meshgrid; not relevant to above"
   ]
  },
  {
   "cell_type": "code",
   "execution_count": 13,
   "id": "550ec7f4-4f1b-4be4-b792-b9ab7bd949d6",
   "metadata": {},
   "outputs": [
    {
     "name": "stdout",
     "output_type": "stream",
     "text": [
      "X\n",
      "[[0 1 2 3 4 5 6 7 8 9]\n",
      " [0 1 2 3 4 5 6 7 8 9]\n",
      " [0 1 2 3 4 5 6 7 8 9]\n",
      " [0 1 2 3 4 5 6 7 8 9]\n",
      " [0 1 2 3 4 5 6 7 8 9]\n",
      " [0 1 2 3 4 5 6 7 8 9]\n",
      " [0 1 2 3 4 5 6 7 8 9]\n",
      " [0 1 2 3 4 5 6 7 8 9]\n",
      " [0 1 2 3 4 5 6 7 8 9]\n",
      " [0 1 2 3 4 5 6 7 8 9]]\n",
      "Y\n",
      "[[0 0 0 0 0 0 0 0 0 0]\n",
      " [1 1 1 1 1 1 1 1 1 1]\n",
      " [2 2 2 2 2 2 2 2 2 2]\n",
      " [3 3 3 3 3 3 3 3 3 3]\n",
      " [4 4 4 4 4 4 4 4 4 4]\n",
      " [5 5 5 5 5 5 5 5 5 5]\n",
      " [6 6 6 6 6 6 6 6 6 6]\n",
      " [7 7 7 7 7 7 7 7 7 7]\n",
      " [8 8 8 8 8 8 8 8 8 8]\n",
      " [9 9 9 9 9 9 9 9 9 9]]\n",
      "X*Y\n",
      "[[ 0  0  0  0  0  0  0  0  0  0]\n",
      " [ 0  1  2  3  4  5  6  7  8  9]\n",
      " [ 0  2  4  6  8 10 12 14 16 18]\n",
      " [ 0  3  6  9 12 15 18 21 24 27]\n",
      " [ 0  4  8 12 16 20 24 28 32 36]\n",
      " [ 0  5 10 15 20 25 30 35 40 45]\n",
      " [ 0  6 12 18 24 30 36 42 48 54]\n",
      " [ 0  7 14 21 28 35 42 49 56 63]\n",
      " [ 0  8 16 24 32 40 48 56 64 72]\n",
      " [ 0  9 18 27 36 45 54 63 72 81]]\n"
     ]
    }
   ],
   "source": [
    "x = y = np.arange(0,10,1)\n",
    "X,Y = np.meshgrid(x,y)\n",
    "\n",
    "print(\"X\")\n",
    "print(X)\n",
    "print(\"Y\")\n",
    "print(Y)\n",
    "print(\"X*Y\")\n",
    "print(X*Y)"
   ]
  }
 ],
 "metadata": {
  "kernelspec": {
   "display_name": "Python 3 (ipykernel)",
   "language": "python",
   "name": "python3"
  },
  "language_info": {
   "codemirror_mode": {
    "name": "ipython",
    "version": 3
   },
   "file_extension": ".py",
   "mimetype": "text/x-python",
   "name": "python",
   "nbconvert_exporter": "python",
   "pygments_lexer": "ipython3",
   "version": "3.11.5"
  }
 },
 "nbformat": 4,
 "nbformat_minor": 5
}

{
 "cells": [
  {
   "cell_type": "markdown",
   "id": "6c693a0b-8009-4b4c-bec5-03a694642160",
   "metadata": {},
   "source": [
    "## Homework 2\n",
    "### Due: Thursday Feb. 13\n",
    "\n",
    "**Integer vs floating point number**\n",
    "\n",
    "Write a program to calculate and print the factorial of a\n",
    "number.  If you wish you can base your program on the\n",
    "user-defined function for factorial given in Section 2.6, but write your\n",
    "program so that it calculates the factorial using *integer*\n",
    "variables, not floating-point ones.  Use your program to calculate the\n",
    "factorial of 200.\n",
    "\n",
    "Now modify your program to use floating-point variables instead and again\n",
    "calculate the factorial of 200.  What do you find?  Explain.\n",
    "\n",
    "(20 points)"
   ]
  },
  {
   "cell_type": "code",
   "execution_count": 1,
   "id": "de7fed8f-325f-4eab-ab18-1e59d1d6b428",
   "metadata": {},
   "outputs": [
    {
     "data": {
      "text/plain": [
       "788657867364790503552363213932185062295135977687173263294742533244359449963403342920304284011984623904177212138919638830257642790242637105061926624952829931113462857270763317237396988943922445621451664240254033291864131227428294853277524242407573903240321257405579568660226031904170324062351700858796178922222789623703897374720000000000000000000000000000000000000000000000000"
      ]
     },
     "execution_count": 1,
     "metadata": {},
     "output_type": "execute_result"
    }
   ],
   "source": [
    "# I'm leaving this code in comments; it's doing the above in numpy. It's not valid, since we want to see python's arbitrary integer store limit. It's\n",
    "# useful to leave the numpy code here to show how numpy handles incredibly big integer vlues and floats. Spoiler: floats the same as python, but just \n",
    "#says 0 for integer values and not smth like inf or a super big number.\n",
    "\n",
    "\n",
    "#import numpy as np\n",
    "#def nmpy_factorial(number, if_float = False):\n",
    "#    if if_float:\n",
    "#        numbers= np.array(1.0)\n",
    "#        for i in range(1,number):\n",
    "#            numbers = np.append(numbers,float(i+1)) #There's probably a better way to cast i+1 as a float, but I think this works\n",
    "#        return np.prod(numbers)\n",
    "#        \n",
    "#    \n",
    "#    else:\n",
    "#        numbers = np.array(1) #Array that's just one\n",
    "#        for i in range (1,number): \n",
    "#            numbers = np.append(numbers,i+1) # Append the next number until you reach the end number\n",
    "#        return np.prod(numbers)\n",
    "#\n",
    "#factorial(200,True)\n",
    "\n",
    "def factorial(number,if_float = False):\n",
    "    if if_float:\n",
    "        product = 1.0\n",
    "        for i in range(1,number):\n",
    "            product *= float(i+1)\n",
    "        return product\n",
    "\n",
    "    else:\n",
    "        product = 1\n",
    "        for i in range(1,number):\n",
    "            product *= (i+1)\n",
    "        return product\n",
    "\n",
    "factorial(200)"
   ]
  },
  {
   "cell_type": "markdown",
   "id": "c8c02368-1680-4f5b-ac8c-7fea881b7b95",
   "metadata": {},
   "source": [
    "Explaining what I found above: Python has arbitrary size for integers, meaning that it can store super big intergers like 200!. However, there is a \"rounding error\" of sorts with the tail of zeroes. Relative to the overall number, these aren't signifigant for most practical purposes, but it is saying Python has \"rounded\" a bit. For floats however, there is a limit to what Python can store and when that limit is reached and surpassed, Python says \"this is too big for me so I'll just say it's infinity\", which is why we see inf when running 200! as floats."
   ]
  },
  {
   "cell_type": "markdown",
   "id": "1e9a5155-daa8-4809-8e6a-e5d4ab7c270d",
   "metadata": {},
   "source": [
    "**A Simple Derivative**\n",
    "\n",
    "Suppose we have a function $f(x)$ and we want to\n",
    "calculate its derivative at a point $x$.  We can do that with pencil and\n",
    "paper if we know the mathematical form of the function, or we can do it on\n",
    "the computer by making use of the definition of the derivative:\n",
    "\n",
    "<p style=\"text-align:center;\">\n",
    "${d f\\over d x} = \\lim_{\\delta\\to0} {f(x+\\delta)-f(x)\\over\\delta}.$\n",
    "</p>\n",
    "\n",
    "On the computer we can't actually take the limit as $\\delta$ goes to\n",
    "zero, but we can get a reasonable approximation just by making $\\delta$\n",
    "small.\n",
    "- Write a program that defines a function *f(x)* returning the\n",
    "  value $x(x-1)$, then calculates the derivative of the function at the\n",
    "  point $x=1$ using the formula above with $\\delta=10^{-2}$.  Calculate\n",
    "  the true value of the same derivative analytically and compare with the\n",
    "  answer your program gives.  The two will not agree perfectly.  Why not?\n",
    "- Repeat the calculation for $\\delta=10^{-4}$, $10^{-6}$, $10^{-8}$,\n",
    "  $10^{-10}$, $10^{-12}$, and $10^{-14}$.  You should see that the accuracy\n",
    "  of the calculation initially gets better as $\\delta$ gets smaller, but\n",
    "  then gets worse again.  Why is this?\n",
    "\n",
    "(20 points)"
   ]
  },
  {
   "cell_type": "code",
   "execution_count": 2,
   "id": "84528686-9eb8-4446-81db-1a6dc4a26a30",
   "metadata": {},
   "outputs": [
    {
     "data": {
      "text/plain": [
       "1.010000000000001"
      ]
     },
     "execution_count": 2,
     "metadata": {},
     "output_type": "execute_result"
    }
   ],
   "source": [
    "def function(x):\n",
    "    return x*(x-1)\n",
    "\n",
    "def deriv(function,position,delta_power):\n",
    "    delta = 10**(delta_power)\n",
    "    return (function(position+delta) - function(position))/delta\n",
    "    \n",
    "deriv(function,1,-2)"
   ]
  },
  {
   "cell_type": "markdown",
   "id": "24d075dd-1c3c-4276-9232-45067f3531ed",
   "metadata": {},
   "source": [
    "Explaining why the analytic solution won't agree perfectly with my numerical solution: We're not actually taking the limit as delta goes to zero; the computer is doing one pretty decent approximation to what it should actually be. \n",
    "\n",
    "Explaining why that the accuracy of the calculation initially got better, but then got worse: I presume that there is some floating point error happening when delta is super small. So the calculation might be something like (4.4-4.3999999999999999999999999999999999999999)/.00000000000000000000001. With all of these decimal places, python tries but ultimately fails to be accurate (relatable). Hence, our accuracy suffers. It can handle some decimal places fine though, which is why the calculation got better initially when there were less decimal places."
   ]
  },
  {
   "cell_type": "markdown",
   "id": "ebb2e1bb-74fa-4897-9d4d-8ba74bfe1ad2",
   "metadata": {},
   "source": [
    "### Simpson's Rule\n",
    "\n",
    "- Write a program to calculate an approximate value for the integral $\\int_{0}^{2} ( x^4 - 2x + 1)dx$ from Example 5.1 in the book, but using Simpson's rule with 10 slices instead of the trapezoid rule. You may be able to modify your code from the trapezoid rule to complete this task. Compare your result to the known correct value of 4.4. What is the fractional error on your calculation?\n",
    "\n",
    "- Copy your code and modify it to use one hundred slices, then one thousand. Note the improvement in the result and compare to the results from the trapezoid rule.\n",
    "\n",
    "(30 points)"
   ]
  },
  {
   "cell_type": "code",
   "execution_count": 78,
   "id": "d8370bf3-7d95-442e-8d4d-b3636a60e6e7",
   "metadata": {},
   "outputs": [
    {
     "name": "stdout",
     "output_type": "stream",
     "text": [
      "Simps Rule; 10 Steps: 4.400426666666667 with fractional error 9.696969696972666e-05\n",
      "Simps Rule; 100 Steps: 4.400000042666668 with fractional error 9.696969893724372e-09\n",
      "Simps Rule; 1000 Steps: 4.400000000004266 with fractional error 9.695274885953866e-13\n",
      "Traps Rule; 10 Steps: 1.7270400000000006 with fractional error 0.607490909090909\n",
      "Traps Rule; 100 Steps: 4.0328759328 with fractional error 0.08343728800000015\n",
      "Traps Rule; 1000 Steps: 4.362130474793569 with fractional error 0.00860671027418885\n"
     ]
    }
   ],
   "source": [
    "# This is code I wrote from numeric_integration_2 (1)\n",
    "def function2(x):\n",
    "    return x**4 - 2*x + 1\n",
    "\n",
    "# For comparison to Simps later\n",
    "def trapezoid_integration(function, start, end, steps):\n",
    "    step_interval = (end - start) / steps # This is a float\n",
    "    start_end_values = step_interval/2 *(function(start) + function(start))\n",
    "    terms = []\n",
    "    for i in range(1,steps-1):\n",
    "        x_k = start + step_interval*i\n",
    "        terms.append(function(x_k))\n",
    "    term_sum = np.sum(terms) * step_interval\n",
    "    return start_end_values + term_sum\n",
    "\n",
    "def simps_int(function,start,end,steps):\n",
    "    h = (end-start)/steps\n",
    "    terms = []\n",
    "    start_end_values = (h/3) *function(start) + (h/3)*function(end)\n",
    "    for i in range(1,steps,2):\n",
    "        x_k = start + h*i\n",
    "        terms.append((4*h/3)*function(x_k))\n",
    "    for i in range(2,steps-1,2):\n",
    "        x_k = start + h*i\n",
    "        terms.append((2*h/3)*function(x_k))\n",
    "    return start_end_values + np.sum(terms)\n",
    "\n",
    "def frac_error(true_value,other_value):\n",
    "    return abs((true_value - other_value) / true_value)\n",
    "\n",
    "\n",
    "#Making answers variables for easier lines with fractional error; doing same for traps to match style and look nicer I guess\n",
    "simps10 = simps_int(function2,0,2,10)\n",
    "simps100 = simps_int(function2,0,2,100)\n",
    "simps1000 = simps_int(function2,0,2,1000)\n",
    "\n",
    "\n",
    "traps10 = trapezoid_integration(function2,0,2,10)\n",
    "traps100 = trapezoid_integration(function2,0,2,100)\n",
    "traps1000 = trapezoid_integration(function2,0,2,1000)\n",
    "\n",
    "\n",
    "print(\"Simps Rule; 10 Steps: \" + str(simps10) + \" with fractional error \" + str(frac_error(4.4,simps10)))\n",
    "print(\"Simps Rule; 100 Steps: \" + str(simps100)  + \" with fractional error \" + str(frac_error(4.4,simps100)))\n",
    "print(\"Simps Rule; 1000 Steps: \" + str(simps1000) + \" with fractional error \" + str(frac_error(4.4,simps1000)))\n",
    "\n",
    "print(\"Traps Rule; 10 Steps: \" + str(traps10)  + \" with fractional error \" + str(frac_error(4.4,traps10)))\n",
    "print(\"Traps Rule; 100 Steps: \" + str(traps100)  + \" with fractional error \" + str(frac_error(4.4,traps100)))\n",
    "print(\"Traps Rule; 1000 Steps: \" + str(traps1000)  + \" with fractional error \" + str(frac_error(4.4,traps1000)))"
   ]
  },
  {
   "cell_type": "markdown",
   "id": "4c080cd1-540e-4ab2-a0d6-3372d1899b4f",
   "metadata": {},
   "source": [
    "### An Integral With No Analytic Solution\n",
    "\n",
    "Consider the integral\n",
    "\n",
    "$$ E(x) = \\int_{0}^{x} \\exp{-t^2} dt$$\n",
    "\n",
    "- Write a program to calculate $E(x)$ for values of x from 0 to 3 in steps of 0.1. Choose for yourself what method you will use for performing the integral and a suitable number of slices.\n",
    "\n",
    "- When you are convinced your program is working, extend it further to make a graph of E(x) as a function of x.\n",
    "\n",
    "(30 points)"
   ]
  },
  {
   "cell_type": "code",
   "execution_count": 85,
   "id": "27aaf5cb-8c02-4c8a-affe-d7d67c969b59",
   "metadata": {},
   "outputs": [
    {
     "name": "stdout",
     "output_type": "stream",
     "text": [
      "[0.0, 0.0996676642944342, 0.19736503105107447, 0.2912378835270183, 0.37965284294984325, 0.4612810148684814, 0.5351535440011038, 0.6006856969956175, 0.6576698976394771, 0.706241565336301, 0.7468241838759145, 0.780061471101485, 0.8067447675600646, 0.8277429525245805, 0.8439406159510479, 0.8561882254226036, 0.8652659855491707, 0.8718612869567643, 0.8765582750426351, 0.8798372161363504, 0.8820809835944895, 0.8835860414824027, 0.8845756448385063, 0.8852134730026399, 0.8856164529263658, 0.8858660294166303, 0.8860175489849145, 0.8861077235037389, 0.8861603319457686, 0.8861904198056574]\n"
     ]
    },
    {
     "data": {
      "text/plain": [
       "<matplotlib.collections.PathCollection at 0x1f3e444ba10>"
      ]
     },
     "execution_count": 85,
     "metadata": {},
     "output_type": "execute_result"
    },
    {
     "data": {
      "image/png": "[encoded data removed]",
      "text/plain": [
       "<Figure size 1000x700 with 1 Axes>"
      ]
     },
     "metadata": {},
     "output_type": "display_data"
    }
   ],
   "source": [
    "# Considering how much \"nicer\" Simps rule is, I will use that. I will also use the nifty code I wrote for the inclass work to get it to an appropriate\n",
    "# precision, because I can. I'm saying to 5 decimal places, because I like the number 5.\n",
    "import numpy as np\n",
    "from matplotlib import pyplot as plt\n",
    "\n",
    "def function3(x):\n",
    "    return (np.e)**(-x**2)\n",
    "    \n",
    "\n",
    "def simps_int(function,start,end,steps):\n",
    "    h = (end-start)/steps\n",
    "    terms = []\n",
    "    start_end_values = (h/3) *function(start) + (h/3)*function(end)\n",
    "    for i in range(1,steps,2):\n",
    "        x_k = start + h*i\n",
    "        terms.append((4*h/3)*function(x_k))\n",
    "    for i in range(2,steps-1,2):\n",
    "        x_k = start + h*i\n",
    "        terms.append((2*h/3)*function(x_k))\n",
    "    return start_end_values + np.sum(terms)\n",
    "\n",
    "def simps_error(function,start,end,precision, print_steps_and_error = False):\n",
    "    precise = 10**(-1*precision)\n",
    "    error = 1 # Dummy number\n",
    "    i = 0\n",
    "\n",
    "    #These are outside while to save computer some trouble.\n",
    "    step1 = 10 \n",
    "    simp1 = simps_int(function,start, end, step1)\n",
    "    while error > precise:\n",
    "        i +=1 \n",
    "        if i > 1000:\n",
    "            print(\"Too long to get to precision\")\n",
    "            break\n",
    "            \n",
    "        step2 = 2*step1\n",
    "        \n",
    "        simp2 = simps_int(function,start, end, step2)\n",
    "        error = (simp2 - simp1)/15 #The division by 15 comes from the equation in the book\n",
    "        #Redefine next first as seconds at the end to make better\n",
    "        step1 = step2\n",
    "        simp1 = simp2\n",
    "        if print_steps_and_error:\n",
    "            print(step2)\n",
    "            print(error)\n",
    "    \n",
    "    return(simp2)\n",
    "\n",
    "int_ans = []\n",
    "x_array = []\n",
    "for i in range(0,30):\n",
    "    x_array.append(i/10)\n",
    "    int_ans.append(simps_error(function3,0,i/10,5))\n",
    "\n",
    "print(int_ans)\n",
    "\n",
    "fig1 = plt.figure(figsize = (10,7))\n",
    "graph = fig1.add_subplot(111)\n",
    "plt.title(\"Integral Values vs. x\")\n",
    "plt.xlabel(\"x's\")\n",
    "plt.ylabel(\"Integral Values\")\n",
    "graph.scatter(x_array,int_ans)"
   ]
  }
 ],
 "metadata": {
  "kernelspec": {
   "display_name": "Python 3 (ipykernel)",
   "language": "python",
   "name": "python3"
  },
  "language_info": {
   "codemirror_mode": {
    "name": "ipython",
    "version": 3
   },
   "file_extension": ".py",
   "mimetype": "text/x-python",
   "name": "python",
   "nbconvert_exporter": "python",
   "pygments_lexer": "ipython3",
   "version": "3.11.5"
  }
 },
 "nbformat": 4,
 "nbformat_minor": 5
}
